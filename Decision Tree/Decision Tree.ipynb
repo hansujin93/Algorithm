{
 "cells": [
  {
   "cell_type": "markdown",
   "metadata": {},
   "source": [
    "# 1."
   ]
  },
  {
   "cell_type": "code",
   "execution_count": 1,
   "metadata": {},
   "outputs": [],
   "source": [
    "class Stack:\n",
    "    def __init__(self):\n",
    "        self.items = [0]\n",
    "        self.position = 0\n",
    "\n",
    "    def push(self, item):\n",
    "        if self.position == 0 :\n",
    "            self.items[self.position] = item\n",
    "        else :\n",
    "            self.items.append(item)\n",
    "        self.position += 1\n",
    "        # print(\"self.items are: \", self.items, \"self.position is: \", self.position)\n",
    "        \n",
    "\n",
    "    def pop(self):\n",
    "        if (self.position<=0):\n",
    "            return False;\n",
    "        else:\n",
    "            self.position -= 1;\n",
    "            return self.items[self.position];\n",
    "\n",
    "    def empty(self):\n",
    "        self.position = 0\n",
    "    \n",
    "    def is_empty(self):\n",
    "        return (self.position == 0)\n",
    "\n",
    "\n",
    "class FibonacciStack(Stack):\n",
    "    def __init__(self):\n",
    "        Stack.__init__(self)\n",
    "        self.popping = 0\n",
    "        self.previous = 1\n",
    "        self.secondprevious = 0\n",
    "\n",
    "    def pop(self):\n",
    "        parent_result = Stack.pop(self); # store the result from parent class first and based on the result, run additional codes in FibonacciStack\n",
    "        if parent_result != False:       # means that self.position > 0, referred to parent class\n",
    "            content = self.items[self.position]\n",
    "            # set the case when popping number = 0 or 1 since these are the startpoint of fibonacci\n",
    "            if (self.popping == 0):\n",
    "                self.popping += 1\n",
    "                return 0 * content\n",
    "            if (self.popping == 1):\n",
    "                self.popping += 1\n",
    "                return 1 * content\n",
    "            if self.popping > 1:\n",
    "                fibo = self.secondprevious + self.previous # update fibo number to use this value as updated previous number\n",
    "                self.secondprevious = self.previous\n",
    "                self.previous = fibo\n",
    "                return fibo * content\n",
    "        else : \n",
    "            return parent_result    # If (self.position<=0) then 'False' is returned based on parent class function.\n",
    "                                   # if this is the case, further codes should not be run. So set this separately.\n",
    "\n",
    "    def empty(self):\n",
    "        Stack.empty(self)\n",
    "        self.secondprevious = 0\n",
    "        self.previous = 1\n",
    "        self.popping = 0"
   ]
  },
  {
   "cell_type": "markdown",
   "metadata": {},
   "source": [
    "Test cases"
   ]
  },
  {
   "cell_type": "code",
   "execution_count": 2,
   "metadata": {},
   "outputs": [
    {
     "name": "stdout",
     "output_type": "stream",
     "text": [
      "0\n",
      "30\n",
      "15\n",
      "10\n",
      "300\n"
     ]
    },
    {
     "data": {
      "text/plain": [
       "30"
      ]
     },
     "execution_count": 2,
     "metadata": {},
     "output_type": "execute_result"
    }
   ],
   "source": [
    "f = FibonacciStack()\n",
    "f.push(100)\n",
    "f.push(5)\n",
    "f.push(15)\n",
    "f.push(30)\n",
    "f.push(2)\n",
    "while f.is_empty() == False:\n",
    "    print(f.pop())\n",
    "f.push(6)\n",
    "f.pop()"
   ]
  },
  {
   "cell_type": "code",
   "execution_count": 3,
   "metadata": {},
   "outputs": [
    {
     "data": {
      "text/plain": [
       "56"
      ]
     },
     "execution_count": 3,
     "metadata": {},
     "output_type": "execute_result"
    }
   ],
   "source": [
    "f.push(7)\n",
    "f.pop()"
   ]
  },
  {
   "cell_type": "code",
   "execution_count": 4,
   "metadata": {},
   "outputs": [
    {
     "data": {
      "text/plain": [
       "False"
      ]
     },
     "execution_count": 4,
     "metadata": {},
     "output_type": "execute_result"
    }
   ],
   "source": [
    "f.empty()\n",
    "f.pop()"
   ]
  },
  {
   "cell_type": "code",
   "execution_count": 22,
   "metadata": {},
   "outputs": [
    {
     "data": {
      "text/plain": [
       "True"
      ]
     },
     "execution_count": 22,
     "metadata": {},
     "output_type": "execute_result"
    }
   ],
   "source": [
    "f.is_empty()"
   ]
  },
  {
   "cell_type": "code",
   "execution_count": 23,
   "metadata": {},
   "outputs": [],
   "source": [
    "\n",
    "class Node:\n",
    "    def __init__(self, content=None, priority=0, next=None):\n",
    "        self.content = content\n",
    "        self.priority = priority\n",
    "        self.next = next\n",
    "\n",
    "class Queue():\n",
    "    def __init__(self):\n",
    "        self.length = 0\n",
    "        self.head = None\n",
    "\n",
    "    def is_empty(self):\n",
    "        return (self.length == 0)\n",
    "\n",
    "    def insert(self, content, priority):\n",
    "        node = Node(content)\n",
    "        if self.head is None:\n",
    "            self.head = node\n",
    "        else:\n",
    "            last = self.head\n",
    "            while last.next:\n",
    "                last = last.next\n",
    "            last.next = node\n",
    "        self.length += 1\n",
    "\n",
    "    def remove(self):\n",
    "        content = self.head.content\n",
    "        self.head = self.head.next\n",
    "        self.length -= 1\n",
    "        return content\n",
    "\n",
    "    def clear(self):\n",
    "        self.length = 0\n",
    "        self.head = None\n",
    "\n",
    "class PriorityQueue(Queue):\n",
    "    def __init__(self):  \n",
    "        Queue.__init__(self)  # __init__ in PriorityQueue is same as Queue, so refer to parent class directly\n",
    "\n",
    "    def insert(self, content, priority): # As insert function in PriorityQueue is different concept from normal Queue, \n",
    "                                         # write every steps separately from Queue\n",
    "        node = Node(content, priority)\n",
    "        if self.head is None:\n",
    "            self.head = node\n",
    "        else:\n",
    "            last = self.head\n",
    "            if last.priority > priority:\n",
    "                self.head = node\n",
    "                node.next = last\n",
    "            else:\n",
    "                while last.next:\n",
    "                    if last.next.priority > priority:\n",
    "                        break\n",
    "                    last = last.next\n",
    "                node.next = last.next\n",
    "                last.next = node\n",
    "        self.length = self.length + 1"
   ]
  },
  {
   "cell_type": "markdown",
   "metadata": {},
   "source": [
    "Test cases"
   ]
  },
  {
   "cell_type": "code",
   "execution_count": 26,
   "metadata": {},
   "outputs": [
    {
     "name": "stdout",
     "output_type": "stream",
     "text": [
      "5\n",
      "8\n",
      "8\n",
      "7\n",
      "4\n"
     ]
    }
   ],
   "source": [
    "b = PriorityQueue()\n",
    "b.insert(5,1)\n",
    "b.insert(7,3)\n",
    "b.insert(8,2)\n",
    "b.insert(4,3)\n",
    "b.insert(8,1)\n",
    "while b.is_empty() == False:\n",
    "    print(b.remove())"
   ]
  },
  {
   "cell_type": "code",
   "execution_count": 27,
   "metadata": {},
   "outputs": [
    {
     "name": "stdout",
     "output_type": "stream",
     "text": [
      "3\n",
      "5\n",
      "4\n",
      "7\n"
     ]
    }
   ],
   "source": [
    "a = PriorityQueue()\n",
    "a.insert(5, 10)\n",
    "a.insert(4, 20)\n",
    "a.insert(3, 1)\n",
    "a.insert(7, 50)\n",
    "while a.is_empty() == False:\n",
    "    print(a.remove())"
   ]
  },
  {
   "cell_type": "markdown",
   "metadata": {},
   "source": [
    "# 2."
   ]
  },
  {
   "cell_type": "code",
   "execution_count": 8,
   "metadata": {},
   "outputs": [],
   "source": [
    "import numpy as np\n",
    "def best_split(data):\n",
    "    gini = []\n",
    "    midpoint_l = []\n",
    "    for idx in range(len(data)-1):\n",
    "        # First, sort the data with x increasing in data([x,y])\n",
    "        data.sort(key=lambda x:x[0])\n",
    "        \n",
    "        # Set midpoint between each points\n",
    "        midpoint = (data[idx][0] + data[idx+1][0]) / 2\n",
    "        \n",
    "        # Append midpoint to empty list to store it so that I can return the point later\n",
    "        midpoint_l.append(midpoint)\n",
    "        left = []\n",
    "        right = []\n",
    "        for j in range(len(data)):\n",
    "            \n",
    "            # By midpoint, divide data by x in data([x,y]) by comparing the value with midpoint\n",
    "            # Since the data is already sorted in x increasing, if I find the point where midpoint stays, \n",
    "            # whole lefthand side list before midpoint of the data goes to left and vice versa for righthand side list\n",
    "            if data[j][0] <= midpoint and data[j+1][0] > midpoint:\n",
    "                left = data[:j+1]\n",
    "                right = data[j+1:]\n",
    "        \n",
    "        # Apply the Gini index equation and store every gini index to gini list which were given empty in the first place\n",
    "        gini.append((len(left)/len(data))*(1-(([x[1] for x in left].count(1)/len(left))**2+([x[1] for x in left].count(0)/len(left))**2)) \\\n",
    "        +  (len(right)/len(data))*(1-(([x[1] for x in right].count(1)/len(right))**2+([x[1] for x in right].count(0)/len(right))**2)))\n",
    "    \n",
    "    # Find the index where gini is a minimum value, and find the midpoint where the index matches\n",
    "    # Midpoint where gini was the smallest is the split point in decision tree\n",
    "    split_point = midpoint_l[int(np.argmin(gini))] # np.argmin(gini) returns the index of list where value Is minimum\n",
    "    return split_point, data[:int(np.argmin(gini))+1], data[int(np.argmin(gini))+1:]"
   ]
  },
  {
   "cell_type": "markdown",
   "metadata": {},
   "source": [
    "Test cases"
   ]
  },
  {
   "cell_type": "code",
   "execution_count": 9,
   "metadata": {},
   "outputs": [
    {
     "name": "stdout",
     "output_type": "stream",
     "text": [
      "(5.5, [[3, 0], [5, 0]], [[6, 1], [7, 0], [8, 1]])\n"
     ]
    }
   ],
   "source": [
    "test1 = best_split([[5 ,0] ,[7 ,0] ,[3 ,0] ,[6 ,1] ,[8 ,1]])\n",
    "print(test1)"
   ]
  },
  {
   "cell_type": "code",
   "execution_count": 10,
   "metadata": {},
   "outputs": [
    {
     "name": "stdout",
     "output_type": "stream",
     "text": [
      "(1.0, [[0, 0]], [[2, 1], [3.5, 1], [8, 0], [11, 1]])\n"
     ]
    }
   ],
   "source": [
    "test2 = best_split([[0 ,0] ,[2 ,1] ,[3.5 ,1] ,[8 ,0] ,[11 ,1]])\n",
    "print(test2)"
   ]
  },
  {
   "cell_type": "code",
   "execution_count": 11,
   "metadata": {},
   "outputs": [
    {
     "name": "stdout",
     "output_type": "stream",
     "text": [
      "(1.0, [[0, 0]], [[2, 1], [8, 1]])\n"
     ]
    }
   ],
   "source": [
    "test3 = best_split([[0,0],[2,1],[8,1]])\n",
    "print(test3)"
   ]
  },
  {
   "cell_type": "code",
   "execution_count": 12,
   "metadata": {},
   "outputs": [
    {
     "name": "stdout",
     "output_type": "stream",
     "text": [
      "(2.0, [[2, 1]], [[2, 1], [8, 1]])\n"
     ]
    }
   ],
   "source": [
    "test4 = best_split([[2,1],[2,1],[8,1]])\n",
    "print(test4)"
   ]
  }
 ],
 "metadata": {
  "kernelspec": {
   "display_name": "Python 3",
   "language": "python",
   "name": "python3"
  },
  "language_info": {
   "codemirror_mode": {
    "name": "ipython",
    "version": 3
   },
   "file_extension": ".py",
   "mimetype": "text/x-python",
   "name": "python",
   "nbconvert_exporter": "python",
   "pygments_lexer": "ipython3",
   "version": "3.7.4"
  }
 },
 "nbformat": 4,
 "nbformat_minor": 2
}
